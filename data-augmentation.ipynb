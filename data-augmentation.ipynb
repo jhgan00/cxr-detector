{
 "cells": [
  {
   "cell_type": "code",
   "execution_count": 1,
   "metadata": {},
   "outputs": [],
   "source": [
    "import os\n",
    "import numpy as np\n",
    "import matplotlib.pyplot as plt\n",
    "import cv2\n",
    "from tqdm.notebook import tqdm"
   ]
  },
  {
   "cell_type": "code",
   "execution_count": 2,
   "metadata": {},
   "outputs": [],
   "source": [
    "example = os.listdir(\"images\")[0].split(\".\")[0]\n",
    "image = plt.imread(f\"images/{example}.png\")\n",
    "label = np.array(open(f\"labels/{example}.txt\").read().split()).astype(np.float16)[1:] / 2"
   ]
  },
  {
   "cell_type": "markdown",
   "metadata": {},
   "source": [
    "# 1. Augmentation Functions"
   ]
  },
  {
   "cell_type": "code",
   "execution_count": 3,
   "metadata": {},
   "outputs": [],
   "source": [
    "def rotate(image, label, left=True):\n",
    "    \n",
    "    def rot90(image, label):\n",
    "        RCX, RCY, RW, RH= label\n",
    "        rcx, rcy, rw, rh = RCY, 1 - RCX, RH, RW\n",
    "        return np.rot90(image), (rcx, rcy, rw, rh)\n",
    "    \n",
    "    def rot270(image, label):\n",
    "        RCX, RCY, RW, RH= label\n",
    "        rcx, rcy, rw, rh = 1 - RCY, RCX, RW, RH\n",
    "        return np.rot90(image, 3), (rcx, rcy, rw, rh)\n",
    "    \n",
    "    if left:\n",
    "        result =  rot90(image, label)\n",
    "    else:\n",
    "        result =  rot270(image, label)\n",
    "    return result"
   ]
  },
  {
   "cell_type": "code",
   "execution_count": 4,
   "metadata": {},
   "outputs": [],
   "source": [
    "def flip(image, label, horizontal=True):\n",
    "    def vflip(image, label):\n",
    "        RCX, RCY, RW, RH = label\n",
    "        rcx, rcy, rw, rh = RCX, 1-RCY, RW, RH\n",
    "        return np.flip(image, axis=0), (rcx, rcy, rw, rh)\n",
    "\n",
    "    def hflip(image, label):\n",
    "        RCX, RCY, RW, RH = label\n",
    "        rcx, rcy, rw, rh = 1-RCX, RCY, RW, RH\n",
    "        return np.flip(image, axis=1), (rcx, rcy, rw, rh)\n",
    "    \n",
    "    if horizontal:\n",
    "        result =  hflip(image, label)\n",
    "    else:\n",
    "        result =  vflip(image, label)\n",
    "    return result"
   ]
  },
  {
   "cell_type": "code",
   "execution_count": 5,
   "metadata": {},
   "outputs": [],
   "source": [
    "def sharpen(image, label, execute):\n",
    "    if execute:\n",
    "        kernel = np.array([[-1,-1,-1,-1,-1],[-1,2,2,2,-1],[-1,2,8,2,-1],[-1,2,2,2,-1],[-1,-1,-1,-1,-1]])/8.\n",
    "        sharpened = cv2.filter2D(image,-1,kernel)\n",
    "        return sharpened, label\n",
    "    else:\n",
    "        return image, label"
   ]
  },
  {
   "cell_type": "markdown",
   "metadata": {},
   "source": [
    "# 2. Random operations"
   ]
  },
  {
   "cell_type": "code",
   "execution_count": 6,
   "metadata": {},
   "outputs": [],
   "source": [
    "SAVE_PATH = \"aug-images/\""
   ]
  },
  {
   "cell_type": "code",
   "execution_count": 7,
   "metadata": {},
   "outputs": [],
   "source": [
    "def augment(image, label, random_code):\n",
    "    R, F, S = random_code\n",
    "    image, label = rotate(image, label, R)\n",
    "    image, label = flip(image, label, F)\n",
    "    image, label = sharpen(image, label, S)\n",
    "    return image, label"
   ]
  },
  {
   "cell_type": "code",
   "execution_count": 12,
   "metadata": {},
   "outputs": [],
   "source": [
    "def save(image, label, name):\n",
    "    img_save_path = SAVE_PATH + f\"{name}.png\"\n",
    "    label_save_path = SAVE_PATH + f\"{name}.txt\"\n",
    "    \n",
    "    cv2.imwrite(img_save_path, image)\n",
    "    rcx, rcy, rw, rh = label\n",
    "    line = f\"0 {rcx} {rcy} {rw} {rh}\"\n",
    "    with open(label_save_path, \"w\") as labelfile:\n",
    "        labelfile.write(line)"
   ]
  },
  {
   "cell_type": "code",
   "execution_count": 18,
   "metadata": {},
   "outputs": [],
   "source": [
    "names = [fname.split(\"/\")[1][:-4] for fname in open(\"meta/train.txt\", \"r\").read().split(\"\\n\")[:-1]]"
   ]
  },
  {
   "cell_type": "code",
   "execution_count": 22,
   "metadata": {},
   "outputs": [
    {
     "data": {
      "application/vnd.jupyter.widget-view+json": {
       "model_id": "4b403a46a9a147f28785ed118f1fc4eb",
       "version_major": 2,
       "version_minor": 0
      },
      "text/plain": [
       "HBox(children=(FloatProgress(value=0.0, max=1800.0), HTML(value='')))"
      ]
     },
     "metadata": {},
     "output_type": "display_data"
    },
    {
     "name": "stdout",
     "output_type": "stream",
     "text": [
      "\n"
     ]
    }
   ],
   "source": [
    "for name in tqdm(names):\n",
    "    # read image & label file\n",
    "    image = cv2.imread(f\"images/{name}.png\", cv2.IMREAD_GRAYSCALE)\n",
    "    label = np.array(open(f\"labels/{name}.txt\").read().split()).astype(np.float16)[1:] / 2\n",
    "    \n",
    "    # create 2 images & 2 labels\n",
    "    prior_code = [0,0,0]\n",
    "    for i in range(2):\n",
    "        while True:\n",
    "            random_code = np.random.randint(0, 2, 3)\n",
    "            if (random_code != prior_code).any():\n",
    "                break\n",
    "        image, label = augment(image, label, random_code)\n",
    "        \n",
    "        save_name = name + f\"_{i}\"\n",
    "        save(image, label, save_name)\n",
    "        prior_code = random_code[:]"
   ]
  },
  {
   "cell_type": "code",
   "execution_count": 23,
   "metadata": {},
   "outputs": [
    {
     "data": {
      "text/plain": [
       "7200"
      ]
     },
     "execution_count": 23,
     "metadata": {},
     "output_type": "execute_result"
    }
   ],
   "source": [
    "len(os.listdir(\"aug-images\")) # 3,600 images, 3,600 labels"
   ]
  },
  {
   "cell_type": "code",
   "execution_count": 25,
   "metadata": {},
   "outputs": [],
   "source": [
    "images = set([fname.split(\".\")[0] for fname in os.listdir(\"aug-images\") if fname.split(\".\")[-1]==\"png\"])\n",
    "labels = set([fname.split(\".\")[0] for fname in os.listdir(\"aug-images\") if fname.split(\".\")[-1]==\"txt\"])"
   ]
  },
  {
   "cell_type": "code",
   "execution_count": 26,
   "metadata": {},
   "outputs": [
    {
     "data": {
      "text/plain": [
       "True"
      ]
     },
     "execution_count": 26,
     "metadata": {},
     "output_type": "execute_result"
    }
   ],
   "source": [
    "images == labels"
   ]
  },
  {
   "cell_type": "markdown",
   "metadata": {},
   "source": [
    "# 3. Write metafiles"
   ]
  },
  {
   "cell_type": "code",
   "execution_count": 29,
   "metadata": {},
   "outputs": [
    {
     "data": {
      "application/vnd.jupyter.widget-view+json": {
       "model_id": "2567263227214b4a816890a285e4df60",
       "version_major": 2,
       "version_minor": 0
      },
      "text/plain": [
       "HBox(children=(FloatProgress(value=0.0, max=3600.0), HTML(value='')))"
      ]
     },
     "metadata": {},
     "output_type": "display_data"
    },
    {
     "name": "stdout",
     "output_type": "stream",
     "text": [
      "\n"
     ]
    }
   ],
   "source": [
    "train_list = [\"aug-images/\" + name + \".png\" for name in images]\n",
    "with open(\"meta/aug-train.txt\", \"w\") as metafile:\n",
    "    for fname in tqdm(train_list):\n",
    "        metafile.write(fname + \"\\n\")"
   ]
  },
  {
   "cell_type": "code",
   "execution_count": 32,
   "metadata": {},
   "outputs": [
    {
     "data": {
      "text/plain": [
       "['aug-images/000-pgan-cxr_abnormal-preset-v2-1gpu-fp32-network-snapshot-014000-001898_1.png',\n",
       " 'aug-images/000-pgan-cxr_abnormal-preset-v2-1gpu-fp32-network-snapshot-014000-001976_0.png',\n",
       " 'aug-images/000-pgan-cxr_abnormal-preset-v2-1gpu-fp32-network-snapshot-014000-000438_1.png',\n",
       " 'aug-images/000-pgan-cxr_abnormal-preset-v2-1gpu-fp32-network-snapshot-014000-001138_1.png',\n",
       " 'aug-images/000-pgan-cxr_abnormal-preset-v2-1gpu-fp32-network-snapshot-014000-000121_0.png',\n",
       " 'aug-images/000-pgan-cxr_abnormal-preset-v2-1gpu-fp32-network-snapshot-014000-001494_1.png',\n",
       " 'aug-images/000-pgan-cxr_abnormal-preset-v2-1gpu-fp32-network-snapshot-014000-000892_0.png',\n",
       " 'aug-images/000-pgan-cxr_abnormal-preset-v2-1gpu-fp32-network-snapshot-014000-000181_1.png',\n",
       " 'aug-images/000-pgan-cxr_abnormal-preset-v2-1gpu-fp32-network-snapshot-014000-001995_1.png',\n",
       " 'aug-images/000-pgan-cxr_abnormal-preset-v2-1gpu-fp32-network-snapshot-014000-001183_1.png']"
      ]
     },
     "execution_count": 32,
     "metadata": {},
     "output_type": "execute_result"
    }
   ],
   "source": [
    "train_list[:10]"
   ]
  },
  {
   "cell_type": "code",
   "execution_count": 31,
   "metadata": {},
   "outputs": [
    {
     "data": {
      "text/plain": [
       "3600"
      ]
     },
     "execution_count": 31,
     "metadata": {},
     "output_type": "execute_result"
    }
   ],
   "source": [
    "len(train_list)"
   ]
  }
 ],
 "metadata": {
  "kernelspec": {
   "display_name": "Python 3",
   "language": "python",
   "name": "python3"
  },
  "language_info": {
   "codemirror_mode": {
    "name": "ipython",
    "version": 3
   },
   "file_extension": ".py",
   "mimetype": "text/x-python",
   "name": "python",
   "nbconvert_exporter": "python",
   "pygments_lexer": "ipython3",
   "version": "3.7.6"
  }
 },
 "nbformat": 4,
 "nbformat_minor": 4
}
