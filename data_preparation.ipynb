{
 "cells": [
  {
   "cell_type": "markdown",
   "metadata": {},
   "source": [
    "# Data Preparation"
   ]
  },
  {
   "cell_type": "code",
   "execution_count": 1,
   "metadata": {},
   "outputs": [],
   "source": [
    "import numpy as np\n",
    "import os\n",
    "from read_roi import read_roi_file\n",
    "import shutil\n",
    "from tqdm.notebook import tqdm"
   ]
  },
  {
   "cell_type": "code",
   "execution_count": null,
   "metadata": {},
   "outputs": [],
   "source": [
    "def mkdir(path):\n",
    "    if not os.path.exists(path):os.mkdir(path)"
   ]
  },
  {
   "cell_type": "code",
   "execution_count": 2,
   "metadata": {},
   "outputs": [],
   "source": [
    "def parse_roi(name, img_size=512):\n",
    "    \"\"\"\n",
    "    return: class, relative coords, relative size of the bounding box \n",
    "    \"\"\"\n",
    "    path = os.path.join(\"practice\", name, f\"Device_{name}_0000.roi\")\n",
    "    roi = read_roi_file(path)[f\"Device_{name}_0000\"]\n",
    "    x, y, w, h = roi['left'], roi['top'], roi['width'], roi['height']\n",
    "    rx, ry, rw, rh = np.array([x, y, w, h])/img_size\n",
    "    rcx = rx+rw/2\n",
    "    rcy = ry+rh/2\n",
    "    line = f\"{0} {rcx} {rcy} {rw} {rh}\"\n",
    "    return line"
   ]
  },
  {
   "cell_type": "code",
   "execution_count": 3,
   "metadata": {},
   "outputs": [],
   "source": [
    "def write_label(name, label_dir=\"labels\"):\n",
    "    \"\"\"\n",
    "    parse roi file > write label txt file\n",
    "    \"\"\"\n",
    "    content = parse_roi(name)\n",
    "    label_path = os.path.join(label_dir, f\"{name}.txt\")\n",
    "    with open(label_path, \"w\") as labelFile:\n",
    "        labelFile.write(content)"
   ]
  },
  {
   "cell_type": "code",
   "execution_count": 6,
   "metadata": {},
   "outputs": [],
   "source": [
    "def write_meta(names, fname, meta_dir=\"meta\", image_dir=\"images\"):\n",
    "    meta_file = os.path.join(meta_dir, f\"{fname}.txt\")\n",
    "    with open(meta_file, \"w\") as file:\n",
    "        for name in tqdm(names):\n",
    "            line = os.path.join(image_dir, f\"{name}.png\\n\")\n",
    "            file.write(line)"
   ]
  },
  {
   "cell_type": "code",
   "execution_count": 10,
   "metadata": {},
   "outputs": [],
   "source": [
    "dirs = (\"images\", \"labels\", \"meta\", \"cfg\", \"backup\")\n",
    "image_dir, label_dir, meta_dir, cfg_dir, backup_dir = dirs\n",
    "for directory in dirs: mkdir(directory)"
   ]
  },
  {
   "cell_type": "markdown",
   "metadata": {},
   "source": [
    "## 1. Image, Label"
   ]
  },
  {
   "cell_type": "code",
   "execution_count": 5,
   "metadata": {},
   "outputs": [],
   "source": [
    "names = [x for x in os.listdir(\"practice\") if os.path.isdir(\"practice/\" + x)]"
   ]
  },
  {
   "cell_type": "code",
   "execution_count": 11,
   "metadata": {},
   "outputs": [
    {
     "data": {
      "application/vnd.jupyter.widget-view+json": {
       "model_id": "bd3a0e05dd84483d9f9c769cf1a56978",
       "version_major": 2,
       "version_minor": 0
      },
      "text/plain": [
       "HBox(children=(FloatProgress(value=0.0, max=2000.0), HTML(value='')))"
      ]
     },
     "metadata": {},
     "output_type": "display_data"
    },
    {
     "name": "stdout",
     "output_type": "stream",
     "text": [
      "\n"
     ]
    }
   ],
   "source": [
    "for name in tqdm(names):\n",
    "    write_label(name, label_dir)"
   ]
  },
  {
   "cell_type": "code",
   "execution_count": 13,
   "metadata": {},
   "outputs": [
    {
     "data": {
      "application/vnd.jupyter.widget-view+json": {
       "model_id": "7c70b435f9e74ca78b40383a2b2833dd",
       "version_major": 2,
       "version_minor": 0
      },
      "text/plain": [
       "HBox(children=(FloatProgress(value=0.0, max=2000.0), HTML(value='')))"
      ]
     },
     "metadata": {},
     "output_type": "display_data"
    },
    {
     "name": "stdout",
     "output_type": "stream",
     "text": [
      "\n"
     ]
    }
   ],
   "source": [
    "for name in tqdm(names):\n",
    "    src = os.path.join(\"practice\", name, f\"{name}.png\")\n",
    "    dst = os.path.join(image_dir, f\"{name}.png\")\n",
    "    shutil.copyfile(src, dst)"
   ]
  },
  {
   "cell_type": "markdown",
   "metadata": {},
   "source": [
    "## 2. Meta"
   ]
  },
  {
   "cell_type": "code",
   "execution_count": 7,
   "metadata": {},
   "outputs": [],
   "source": [
    "np.random.seed(0)\n",
    "sample = names[:]\n",
    "np.random.shuffle(sample)\n",
    "valid_size = 200\n",
    "train, valid = sample[:-valid_size], sample[-valid_size:]\n",
    "if not os.path.exists(meta_dir):\n",
    "    os.mkdir(meta_dir)"
   ]
  },
  {
   "cell_type": "code",
   "execution_count": 8,
   "metadata": {},
   "outputs": [
    {
     "data": {
      "application/vnd.jupyter.widget-view+json": {
       "model_id": "12a763333873417889bd0c4cf4300572",
       "version_major": 2,
       "version_minor": 0
      },
      "text/plain": [
       "HBox(children=(FloatProgress(value=0.0, max=1800.0), HTML(value='')))"
      ]
     },
     "metadata": {},
     "output_type": "display_data"
    },
    {
     "name": "stdout",
     "output_type": "stream",
     "text": [
      "\n"
     ]
    },
    {
     "data": {
      "application/vnd.jupyter.widget-view+json": {
       "model_id": "4402e92115b34cd6a2d30c30a4092b19",
       "version_major": 2,
       "version_minor": 0
      },
      "text/plain": [
       "HBox(children=(FloatProgress(value=0.0, max=200.0), HTML(value='')))"
      ]
     },
     "metadata": {},
     "output_type": "display_data"
    },
    {
     "name": "stdout",
     "output_type": "stream",
     "text": [
      "\n"
     ]
    }
   ],
   "source": [
    "write_meta(train, \"train\", meta_dir, image_dir)\n",
    "write_meta(valid, \"valid\", meta_dir, image_dir)"
   ]
  },
  {
   "cell_type": "markdown",
   "metadata": {},
   "source": [
    "# 3. Config"
   ]
  },
  {
   "cell_type": "code",
   "execution_count": 12,
   "metadata": {},
   "outputs": [],
   "source": [
    "data_path = os.path.join(cfg_dir, \"cxr.data\")\n",
    "with open(data_path, \"w\") as datafile:\n",
    "    content = f\"\"\"classes=1\n",
    "train = {os.path.join(meta_dir, \"train.txt\")}\n",
    "valid = {os.path.join(meta_dir, \"valid.txt\")}\n",
    "names = {os.path.join(cfg_dir, \"cxr.names\")}\n",
    "backup = {backup_dir}\n",
    "    \"\"\"\n",
    "    datafile.write(content)"
   ]
  },
  {
   "cell_type": "code",
   "execution_count": 13,
   "metadata": {},
   "outputs": [],
   "source": [
    "with open(os.path.join(cfg_dir, \"cxr.names\"), \"w\") as namefile:\n",
    "    namefile.write(\"L\")"
   ]
  }
 ],
 "metadata": {
  "kernelspec": {
   "display_name": "Python 3",
   "language": "python",
   "name": "python3"
  },
  "language_info": {
   "codemirror_mode": {
    "name": "ipython",
    "version": 3
   },
   "file_extension": ".py",
   "mimetype": "text/x-python",
   "name": "python",
   "nbconvert_exporter": "python",
   "pygments_lexer": "ipython3",
   "version": "3.7.6"
  }
 },
 "nbformat": 4,
 "nbformat_minor": 4
}
