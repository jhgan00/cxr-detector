{
  "nbformat": 4,
  "nbformat_minor": 0,
  "metadata": {
    "colab": {
      "name": "cxr-detector.ipynb",
      "provenance": [],
      "collapsed_sections": [],
      "mount_file_id": "1KZktOvfJJwpuyO1NgftHYM70IU5SStfL",
      "authorship_tag": "ABX9TyPVRMlFGGi8MIfvMDYYWiSF",
      "include_colab_link": true
    },
    "kernelspec": {
      "name": "python3",
      "display_name": "Python 3"
    },
    "accelerator": "GPU"
  },
  "cells": [
    {
      "cell_type": "markdown",
      "metadata": {
        "id": "view-in-github",
        "colab_type": "text"
      },
      "source": [
        "<a href=\"https://colab.research.google.com/github/jhgan00/cxr-detector/blob/master/cxr_detector.ipynb\" target=\"_parent\"><img src=\"https://colab.research.google.com/assets/colab-badge.svg\" alt=\"Open In Colab\"/></a>"
      ]
    },
    {
      "cell_type": "markdown",
      "metadata": {
        "id": "PFR0BeBDHhP4",
        "colab_type": "text"
      },
      "source": [
        "```\n",
        "import os\n",
        "os.chdir(\"./drive/My Drive/\")\n",
        "!git clone https://github.com/AlexeyAB/darknet.git\n",
        "os.chdir(\"darknet\")\n",
        "!sed '1 s/^.*$/GPU=1/; 2 s/^.*$/CUDNN=1/' -i Makefile\n",
        "!make\n",
        "!unzip ../cxr.zip -d ./\n",
        "```"
      ]
    },
    {
      "cell_type": "markdown",
      "metadata": {
        "id": "ENKBrg2cG8-q",
        "colab_type": "text"
      },
      "source": [
        "# 1. Train"
      ]
    },
    {
      "cell_type": "markdown",
      "metadata": {
        "id": "ZHwOVP7UCvkQ",
        "colab_type": "text"
      },
      "source": [
        "\n",
        "## 1.1 Train config\n",
        "\n",
        "- \\# of train images: 1,800\n",
        "- \\# of valid images: 200\n",
        "- \\# of test images: 200\n",
        "\n",
        "params|values\n",
        "---|---\n",
        "batch|64\n",
        "subdivisions|16\n",
        "width|416\n",
        "height|416\n",
        "channels|3\n",
        "momentum|0.9\n",
        "decay|0.0005\n",
        "angle|0\n",
        "saturation|1.5\n",
        "exposure|1.5\n",
        "hue|0.1\n",
        "learning_rate|0.001\n",
        "burn_in|1000\n",
        "max_batches|6000\n",
        "policy|steps\n",
        "steps|4800,5400\n",
        "scales|0.1,0.1"
      ]
    },
    {
      "cell_type": "markdown",
      "metadata": {
        "id": "SK2QVFQA_vO0",
        "colab_type": "text"
      },
      "source": [
        "## 1.2. Training\n"
      ]
    },
    {
      "cell_type": "markdown",
      "metadata": {
        "id": "JU32q3NHD4Of",
        "colab_type": "text"
      },
      "source": [
        "- Init training with Darknet53.Conv.74 weights pretrained for classification on ImageNet dataset "
      ]
    },
    {
      "cell_type": "code",
      "metadata": {
        "id": "_haOTCF0Mx8O",
        "colab_type": "code",
        "colab": {}
      },
      "source": [
        "!./darknet detector train \\\n",
        "    cfg/cxr.data \\\n",
        "    cfg/cxr_yolov3_train.cfg \\\n",
        "    darknet53.conv.74 \\\n",
        "    -map"
      ],
      "execution_count": null,
      "outputs": []
    },
    {
      "cell_type": "markdown",
      "metadata": {
        "id": "z7MWIRHPCLQv",
        "colab_type": "text"
      },
      "source": [
        "- Restore the latest checkpoint & continue training"
      ]
    },
    {
      "cell_type": "code",
      "metadata": {
        "id": "O3awX9SgvRCm",
        "colab_type": "code",
        "colab": {}
      },
      "source": [
        "!./darknet detector train \\\n",
        "    cfg/cxr.data \\\n",
        "    cfg/cxr_yolov3_train.cfg \\\n",
        "    backup/cxr_yolov3_train_last.weights \\\n",
        "    -map"
      ],
      "execution_count": null,
      "outputs": []
    },
    {
      "cell_type": "markdown",
      "metadata": {
        "id": "QOyXSegwOyS_",
        "colab_type": "text"
      },
      "source": [
        "## 1.3. Check sample prediction"
      ]
    },
    {
      "cell_type": "code",
      "metadata": {
        "id": "Q3VF9amIKHcg",
        "colab_type": "code",
        "colab": {}
      },
      "source": [
        "!./darknet detector test \\\n",
        "    cfg/cxr.data \\\n",
        "    cfg/cxr_yolov3_train.cfg \\\n",
        "    backup/cxr_yolov3_train_best.weights"
      ],
      "execution_count": null,
      "outputs": []
    },
    {
      "cell_type": "code",
      "metadata": {
        "id": "h-KzOaL9O7BF",
        "colab_type": "code",
        "colab": {}
      },
      "source": [
        "import matplotlib.pyplot as plt\n",
        "plt.figure(figsize = (10,10))\n",
        "plt.imshow(plt.imread(\"predictions.jpg\"))"
      ],
      "execution_count": null,
      "outputs": []
    },
    {
      "cell_type": "markdown",
      "metadata": {
        "id": "nUqLHGUM-6G7",
        "colab_type": "text"
      },
      "source": [
        "# 2. Test"
      ]
    },
    {
      "cell_type": "code",
      "metadata": {
        "id": "zGydOPbVKiY_",
        "colab_type": "code",
        "colab": {}
      },
      "source": [
        ""
      ],
      "execution_count": null,
      "outputs": []
    }
  ]
}